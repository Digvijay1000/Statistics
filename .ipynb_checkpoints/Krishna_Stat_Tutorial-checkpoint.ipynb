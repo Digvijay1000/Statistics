{
 "cells": [
  {
   "cell_type": "markdown",
   "id": "c25e0b25",
   "metadata": {},
   "source": [
    "# Statistics for ML"
   ]
  },
  {
   "cell_type": "markdown",
   "id": "b9fcf65f",
   "metadata": {},
   "source": [
    "### Tutorial 1 : What is statistics and its type?"
   ]
  },
  {
   "cell_type": "markdown",
   "id": "466201ab",
   "metadata": {},
   "source": [
    "Statistsics is the science of collecting, organizing and analyzing data\n",
    "\n",
    "**what is Data:** Facts or pieces of information\n",
    "e.g 1. Hight of students in a class\n",
    "    2. Gender of person visiting a doctor(8 AM TO 4 PM)\n",
    "    \n",
    "    \n",
    "###### Types of Statistics:\n",
    "\n",
    "a. **Descriptive Stat** : It consisit of organizing and summaring of data\n",
    "\n",
    "    1. Measure central tendency\n",
    "    2. Measure of dispersion (variance & standard deviation)\n",
    "    3. Different type of distribution of data\n",
    "    4. Histrogram, Probability Density Function, Probability Mass Function\n",
    "\n",
    "b. **Inferential Stat** : It consist of using data you have measure to form conclusion\n",
    "\n",
    "    Hypothesis Testing:\n",
    "    1. Z-test\n",
    "    2. T-test\n",
    "    3. ChiSQURE Test\n",
    "    4. Annova Test\n",
    "    \n",
    "    \n",
    "**e.g on both type : lets consider there are 20 classrooms in a college and lets say you have collected ages of students in one class**\n",
    "\n",
    "Ages in class : {91, 21, 18, 34, 22 ,23}\n",
    "\n",
    "**Descriptive Stat** ouestion: what is the common age in your statts class? > mean(ages)\n",
    "    \n",
    "**Inferential Stat** question: Are the ages of student in the classroom simillar to ages of the students in the university? \n",
    "    "
   ]
  },
  {
   "cell_type": "markdown",
   "id": "ac992ade",
   "metadata": {},
   "source": [
    "............................................................................................................................................................................................................................................................."
   ]
  },
  {
   "cell_type": "markdown",
   "id": "63e238b5",
   "metadata": {},
   "source": [
    "### Tutorial 2 : Population & Sample"
   ]
  },
  {
   "cell_type": "markdown",
   "id": "871f62a2",
   "metadata": {},
   "source": [
    "**Population** (N) : The group that we are interested in study.        \n",
    "        \n",
    "**Sample** (n) : It is subset of the population\n",
    "\n",
    "     e.g > Exit Poll (Media)\n",
    "        \n",
    "     State A : Age > 18 Years (population)\n",
    "     State A : region wise small group of peoples (sample)\n",
    "     State B : Avg height of the people (population)\n",
    "     State B : Small Group of people in specific region (sample) \n",
    "     \n",
    "     \n",
    "**Sampling Technique** : The goal of sampling is to create a sample that is represented of the entire population.\n",
    "\n",
    "**Types of Sampling** :\n",
    "\n",
    "1.**Simple Random Sampling** : when performing simple random sampling /*every member of population(N) has an equal chance of being selected for your sample(n)/*\n",
    "\n",
    "2.**Stratified Sampling** (layering) layring from non overlapping group : \n",
    "e.g : population : 1. male 2. female\n",
    "\n",
    "3.**Systematic Sampling** : \n",
    "e.g : Mall (survey) > every 4th person survey\n",
    "\n",
    "4.**Convinence Sampling** (Volentory Response Sampling) :\n",
    "e.g : Data science knowldege person will be required for survey in data science\n",
    "\n",
    "\n",
    "Questions:\n",
    "\n",
    "1. Exit Poll sampling technique : random sampling\n",
    "2. Desies information : convinient sampling \n",
    "3. Household expence : stratified sampling "
   ]
  },
  {
   "cell_type": "markdown",
   "id": "52acc27e",
   "metadata": {},
   "source": []
  },
  {
   "cell_type": "code",
   "execution_count": null,
   "id": "6e85bb78",
   "metadata": {},
   "outputs": [],
   "source": []
  }
 ],
 "metadata": {
  "kernelspec": {
   "display_name": "Python 3 (ipykernel)",
   "language": "python",
   "name": "python3"
  },
  "language_info": {
   "codemirror_mode": {
    "name": "ipython",
    "version": 3
   },
   "file_extension": ".py",
   "mimetype": "text/x-python",
   "name": "python",
   "nbconvert_exporter": "python",
   "pygments_lexer": "ipython3",
   "version": "3.11.3"
  }
 },
 "nbformat": 4,
 "nbformat_minor": 5
}
