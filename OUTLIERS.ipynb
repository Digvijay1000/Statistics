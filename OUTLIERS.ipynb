{
 "cells": [
  {
   "cell_type": "code",
   "execution_count": 1,
   "id": "ac4c8cea",
   "metadata": {},
   "outputs": [],
   "source": [
    "import numpy as np\n",
    "import pandas as pd"
   ]
  },
  {
   "cell_type": "code",
   "execution_count": 2,
   "id": "e72030e0",
   "metadata": {},
   "outputs": [],
   "source": [
    "dataset = [10,11,-23,-12,-34,54,55,66,1023,12,15,18,19,23,12,32,45,10,12,10,15,1300]"
   ]
  },
  {
   "cell_type": "code",
   "execution_count": 3,
   "id": "83a383e0",
   "metadata": {},
   "outputs": [],
   "source": [
    "df = pd.DataFrame(dataset, dtype='float64')"
   ]
  },
  {
   "cell_type": "code",
   "execution_count": 4,
   "id": "cfbddf5f",
   "metadata": {},
   "outputs": [
    {
     "name": "stdout",
     "output_type": "stream",
     "text": [
      "<class 'pandas.core.frame.DataFrame'>\n",
      "RangeIndex: 22 entries, 0 to 21\n",
      "Data columns (total 1 columns):\n",
      " #   Column  Non-Null Count  Dtype  \n",
      "---  ------  --------------  -----  \n",
      " 0   0       22 non-null     float64\n",
      "dtypes: float64(1)\n",
      "memory usage: 308.0 bytes\n"
     ]
    }
   ],
   "source": [
    "df.info()"
   ]
  },
  {
   "cell_type": "code",
   "execution_count": 5,
   "id": "ab42532f",
   "metadata": {},
   "outputs": [],
   "source": [
    "df = df.rename(columns={0:\"dp\"})"
   ]
  },
  {
   "cell_type": "code",
   "execution_count": 6,
   "id": "607e5d48",
   "metadata": {},
   "outputs": [],
   "source": [
    "def detect_outliers(x): \n",
    "    outliers = []\n",
    "    threshold = 3 # 3rd std deviation\n",
    "    mean = np.mean(x)\n",
    "    std = np.std(x)\n",
    "    \n",
    "    for i in x:\n",
    "        z_score = (i - mean) / std\n",
    "        if np.abs(z_score) > threshold:\n",
    "            outliers.append(i)\n",
    "    return outliers\n"
   ]
  },
  {
   "cell_type": "code",
   "execution_count": 7,
   "id": "cb703f99",
   "metadata": {},
   "outputs": [
    {
     "data": {
      "text/plain": [
       "Index(['dp'], dtype='object')"
      ]
     },
     "execution_count": 7,
     "metadata": {},
     "output_type": "execute_result"
    }
   ],
   "source": [
    "df.columns"
   ]
  },
  {
   "cell_type": "code",
   "execution_count": 8,
   "id": "28d6e459",
   "metadata": {},
   "outputs": [],
   "source": [
    "# import numpy as np\n",
    "\n",
    "# def detect_outliers_z_score(data, threshold=3):\n",
    "#     outliers = []\n",
    "#     mean = np.mean(data)\n",
    "#     std = np.std(data)\n",
    "#     for i in data:\n",
    "#         z_score = (i - mean) / std\n",
    "#         if np.abs(z_score) > threshold:\n",
    "#             outliers.append(i)\n",
    "#     return outliers"
   ]
  },
  {
   "cell_type": "markdown",
   "id": "e0abfd87",
   "metadata": {},
   "source": [
    "z_score = xi-mean/std"
   ]
  },
  {
   "cell_type": "code",
   "execution_count": 9,
   "id": "4e53c66a",
   "metadata": {},
   "outputs": [
    {
     "name": "stdout",
     "output_type": "stream",
     "text": [
      "Outliers: []\n"
     ]
    }
   ],
   "source": [
    "import numpy as np\n",
    "\n",
    "def detect_outliers_z_score(data, threshold=3):\n",
    "    outliers = []\n",
    "    mean = np.mean(data)\n",
    "    std = np.std(data)\n",
    "    for i, x in enumerate(data):\n",
    "        z_score = (x - mean) / std\n",
    "        if np.abs(z_score) > threshold:\n",
    "            outliers.append((i, x))  # Store index and value\n",
    "    return outliers\n",
    "\n",
    "# Example usage:\n",
    "data = [1, 2, 3, 4, 5, 6, 7, 8, 9, 1000, 1100, 1200]  # Example dataset with outliers\n",
    "outliers = detect_outliers_z_score(data)\n",
    "print(\"Outliers:\", outliers)\n"
   ]
  },
  {
   "cell_type": "code",
   "execution_count": 10,
   "id": "ab0b6795",
   "metadata": {},
   "outputs": [
    {
     "name": "stdout",
     "output_type": "stream",
     "text": [
      "Outliers: []\n"
     ]
    }
   ],
   "source": [
    "import numpy as np\n",
    "\n",
    "def detect_outliers_z_score(data, threshold=3):\n",
    "    outliers = []\n",
    "    mean = np.mean(data)\n",
    "    std = np.std(data)\n",
    "    for i, x in enumerate(data):\n",
    "        z_score = (x - mean) / std\n",
    "        if np.abs(z_score) > threshold:\n",
    "            outliers.append((i, x))\n",
    "    return outliers\n",
    "\n",
    "# Example usage:\n",
    "data = [1, 2, 3, 4, 5, 6, 7, 8, 9, 100, 110, 120]  # Example dataset with outliers (100, 110, 120)\n",
    "outliers = detect_outliers_z_score(data)\n",
    "print(\"Outliers:\", outliers)\n"
   ]
  },
  {
   "cell_type": "code",
   "execution_count": 11,
   "id": "54e9b292",
   "metadata": {},
   "outputs": [
    {
     "name": "stdout",
     "output_type": "stream",
     "text": [
      "Outliers:\n",
      "[]\n"
     ]
    }
   ],
   "source": [
    "from sklearn.neighbors import LocalOutlierFactor\n",
    "import numpy as np\n",
    "\n",
    "# Example data\n",
    "X = np.array([[1, 1], [1, 2], [2, 2], [2, 3], [8, 8], [9, 8], [9, 9], [10, 9]])\n",
    "\n",
    "# LOF model\n",
    "lof = LocalOutlierFactor(n_neighbors=3)  # You can adjust the number of neighbors as needed\n",
    "\n",
    "# Fit the model and predict outliers\n",
    "outlier_scores = lof.fit_predict(X)\n",
    "\n",
    "# The negative LOF scores indicate outliers\n",
    "outliers = X[outlier_scores == -1]\n",
    "\n",
    "print(\"Outliers:\")\n",
    "print(outliers)\n"
   ]
  },
  {
   "cell_type": "code",
   "execution_count": 12,
   "id": "a384acad",
   "metadata": {},
   "outputs": [
    {
     "name": "stdout",
     "output_type": "stream",
     "text": [
      "Cluster labels: [ 0  0  0  1  1 -1]\n",
      "Outliers:\n",
      "[[25 80]]\n"
     ]
    }
   ],
   "source": [
    "from sklearn.cluster import DBSCAN\n",
    "import numpy as np\n",
    "\n",
    "# Example data\n",
    "X = np.array([[1, 2], [2, 2], [2, 3], [8, 7], [8, 8], [25, 80]])\n",
    "\n",
    "# DBSCAN model\n",
    "dbscan = DBSCAN(eps=3, min_samples=2)  # You can adjust the eps (maximum distance between two samples) and min_samples parameters as needed\n",
    "\n",
    "# Fit the model and predict clusters\n",
    "clusters = dbscan.fit_predict(X)\n",
    "\n",
    "# The cluster labels (-1 indicates noise/outliers)\n",
    "print(\"Cluster labels:\", clusters)\n",
    "\n",
    "# Extract outliers (points with label -1)\n",
    "outliers = X[clusters == -1]\n",
    "\n",
    "print(\"Outliers:\")\n",
    "print(outliers)\n"
   ]
  },
  {
   "cell_type": "code",
   "execution_count": 13,
   "id": "44105d51",
   "metadata": {},
   "outputs": [],
   "source": [
    "import matplotlib.pyplot as plt"
   ]
  },
  {
   "cell_type": "code",
   "execution_count": 14,
   "id": "cfe3c7ae",
   "metadata": {},
   "outputs": [
    {
     "data": {
      "text/plain": [
       "{'whiskers': [<matplotlib.lines.Line2D at 0x14c0aeb95d0>,\n",
       "  <matplotlib.lines.Line2D at 0x14c0aeba310>],\n",
       " 'caps': [<matplotlib.lines.Line2D at 0x14c0aebaf10>,\n",
       "  <matplotlib.lines.Line2D at 0x14c0aebbb90>],\n",
       " 'boxes': [<matplotlib.lines.Line2D at 0x14c0aea8a10>],\n",
       " 'medians': [<matplotlib.lines.Line2D at 0x14c0aebc710>],\n",
       " 'fliers': [<matplotlib.lines.Line2D at 0x14c082a5bd0>],\n",
       " 'means': []}"
      ]
     },
     "execution_count": 14,
     "metadata": {},
     "output_type": "execute_result"
    },
    {
     "data": {
      "image/png": "[encoded data removed]",
      "text/plain": [
       "<Figure size 640x480 with 1 Axes>"
      ]
     },
     "metadata": {},
     "output_type": "display_data"
    }
   ],
   "source": [
    "plt.boxplot(x='dp',data=df)"
   ]
  },
  {
   "cell_type": "code",
   "execution_count": null,
   "id": "51045647",
   "metadata": {},
   "outputs": [],
   "source": []
  }
 ],
 "metadata": {
  "kernelspec": {
   "display_name": "Python 3 (ipykernel)",
   "language": "python",
   "name": "python3"
  },
  "language_info": {
   "codemirror_mode": {
    "name": "ipython",
    "version": 3
   },
   "file_extension": ".py",
   "mimetype": "text/x-python",
   "name": "python",
   "nbconvert_exporter": "python",
   "pygments_lexer": "ipython3",
   "version": "3.11.5"
  }
 },
 "nbformat": 4,
 "nbformat_minor": 5
}
